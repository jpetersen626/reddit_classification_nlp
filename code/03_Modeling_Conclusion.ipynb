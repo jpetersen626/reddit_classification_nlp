{
 "cells": [
  {
   "cell_type": "markdown",
   "id": "7bc0622c-5425-44b3-9639-a4e0486b3985",
   "metadata": {},
   "source": [
    "## Modeling"
   ]
  },
  {
   "cell_type": "markdown",
   "id": "3db398f8-f08c-4e25-8e96-862256b4f2e5",
   "metadata": {},
   "source": [
    "---"
   ]
  },
  {
   "cell_type": "code",
   "execution_count": 277,
   "id": "9ebab50c-7a18-4a0e-a2cf-a536bb2f7028",
   "metadata": {},
   "outputs": [],
   "source": [
    "import pandas as pd\n",
    "import numpy as np\n",
    "import seaborn as sns\n",
    "import matplotlib.pyplot as plt\n",
    "\n",
    "from sklearn.ensemble import ExtraTreesClassifier, RandomForestClassifier, VotingClassifier\n",
    "from sklearn.model_selection import cross_val_score, GridSearchCV, train_test_split\n",
    "from sklearn.metrics import ConfusionMatrixDisplay, f1_score, balanced_accuracy_score\n",
    "from sklearn.linear_model import LogisticRegression, LinearRegression\n",
    "from sklearn.feature_extraction.text import CountVectorizer, TfidfVectorizer\n",
    "from sklearn.neighbors import KNeighborsClassifier\n",
    "from sklearn.tree import DecisionTreeClassifier\n",
    "from sklearn.pipeline import make_pipeline\n",
    "from sklearn.compose import make_column_selector, make_column_transformer\n",
    "from sklearn.preprocessing import OneHotEncoder\n",
    "from nltk import word_tokenize\n",
    "from nltk.stem import WordNetLemmatizer\n",
    "pd.options.display.max_colwidth = 400\n",
    "import sys\n",
    "\n",
    "if not sys.warnoptions:\n",
    "    import warnings\n",
    "    warnings.simplefilter(\"ignore\")"
   ]
  },
  {
   "cell_type": "code",
   "execution_count": 2,
   "id": "586a1056-6a44-4d4e-8117-8348404b5625",
   "metadata": {},
   "outputs": [],
   "source": [
    "subreddit = pd.read_csv('../datasets/subreddit_combined.csv')"
   ]
  },
  {
   "cell_type": "code",
   "execution_count": 3,
   "id": "a756d5e1-4cae-4703-8023-1df6374a3032",
   "metadata": {},
   "outputs": [
    {
     "data": {
      "text/html": [
       "<div>\n",
       "<style scoped>\n",
       "    .dataframe tbody tr th:only-of-type {\n",
       "        vertical-align: middle;\n",
       "    }\n",
       "\n",
       "    .dataframe tbody tr th {\n",
       "        vertical-align: top;\n",
       "    }\n",
       "\n",
       "    .dataframe thead th {\n",
       "        text-align: right;\n",
       "    }\n",
       "</style>\n",
       "<table border=\"1\" class=\"dataframe\">\n",
       "  <thead>\n",
       "    <tr style=\"text-align: right;\">\n",
       "      <th></th>\n",
       "      <th>link_flair_text</th>\n",
       "      <th>over_18</th>\n",
       "      <th>selftext</th>\n",
       "      <th>subreddit</th>\n",
       "      <th>title</th>\n",
       "    </tr>\n",
       "  </thead>\n",
       "  <tbody>\n",
       "    <tr>\n",
       "      <th>0</th>\n",
       "      <td>Other</td>\n",
       "      <td>False</td>\n",
       "      <td>So in the venom 2 post credit venom says he recognizes peter Parker even though that venom has never met him because almost the moment venom arrived on earth he has been with Eddie or in a secret facility so could they have met in between movies?</td>\n",
       "      <td>Marvel</td>\n",
       "      <td>plot hole</td>\n",
       "    </tr>\n",
       "    <tr>\n",
       "      <th>1</th>\n",
       "      <td>Film/Television</td>\n",
       "      <td>False</td>\n",
       "      <td>Alright, so I avoided this movie until today, what’s that like 12 years, because if the reviews and I gotta say, it was actually pretty good. Way better than the second Venom, let there be Carnage. \\n\\nForget other peoples opinions. Watch what you want.</td>\n",
       "      <td>Marvel</td>\n",
       "      <td>Green lantern, not that bad.</td>\n",
       "    </tr>\n",
       "  </tbody>\n",
       "</table>\n",
       "</div>"
      ],
      "text/plain": [
       "   link_flair_text  over_18  \\\n",
       "0            Other    False   \n",
       "1  Film/Television    False   \n",
       "\n",
       "                                                                                                                                                                                                                                                        selftext  \\\n",
       "0         So in the venom 2 post credit venom says he recognizes peter Parker even though that venom has never met him because almost the moment venom arrived on earth he has been with Eddie or in a secret facility so could they have met in between movies?   \n",
       "1  Alright, so I avoided this movie until today, what’s that like 12 years, because if the reviews and I gotta say, it was actually pretty good. Way better than the second Venom, let there be Carnage. \\n\\nForget other peoples opinions. Watch what you want.   \n",
       "\n",
       "  subreddit                         title  \n",
       "0    Marvel                     plot hole  \n",
       "1    Marvel  Green lantern, not that bad.  "
      ]
     },
     "execution_count": 3,
     "metadata": {},
     "output_type": "execute_result"
    }
   ],
   "source": [
    "subreddit.head(2)"
   ]
  },
  {
   "cell_type": "code",
   "execution_count": 4,
   "id": "bb304371-13cf-446d-b888-2aac30b222d3",
   "metadata": {},
   "outputs": [],
   "source": [
    "X = subreddit[['selftext', 'title']]\n",
    "y = subreddit['subreddit']\n",
    "\n",
    "X_train, X_test, y_train, y_test = train_test_split(X, y, random_state=55, stratify=y)"
   ]
  },
  {
   "cell_type": "markdown",
   "id": "69f1fcab-ec4f-40a6-96c8-9746739e004f",
   "metadata": {},
   "source": [
    "### Generating a Baseline Model\n",
    "\n",
    "#### Since r/harrypotter is the majority class, it is the positive class (the one we're predicting). We want our models to have an accuracy score greater than 0.634."
   ]
  },
  {
   "cell_type": "code",
   "execution_count": 5,
   "id": "41edb96d-a170-4c50-9047-4331fc5917c1",
   "metadata": {},
   "outputs": [
    {
     "data": {
      "text/plain": [
       "harrypotter    0.636354\n",
       "Marvel         0.363646\n",
       "Name: subreddit, dtype: float64"
      ]
     },
     "execution_count": 5,
     "metadata": {},
     "output_type": "execute_result"
    }
   ],
   "source": [
    "y.value_counts(normalize=True)"
   ]
  },
  {
   "cell_type": "markdown",
   "id": "08b38bef-7713-4b21-8ad8-2435817768f8",
   "metadata": {},
   "source": [
    "### Making Logistic Regression Model with Count Vectorizer"
   ]
  },
  {
   "cell_type": "code",
   "execution_count": 11,
   "id": "5c4ffd87-5308-4c79-a882-02714f22b3f1",
   "metadata": {},
   "outputs": [
    {
     "data": {
      "text/plain": [
       "(1.0, 0.9604166666666667)"
      ]
     },
     "execution_count": 11,
     "metadata": {},
     "output_type": "execute_result"
    }
   ],
   "source": [
    "ct1 = make_column_transformer((CountVectorizer(), 'selftext'), (CountVectorizer(), 'title'))\n",
    "\n",
    "pipe1 = make_pipeline(ct1, LogisticRegression(max_iter=10_000))\n",
    "\n",
    "pipe1.fit(X_train, y_train)\n",
    "pipe1.score(X_train, y_train), pipe1.score(X_test, y_test)"
   ]
  },
  {
   "cell_type": "markdown",
   "id": "9e52bc1c-ce99-4fb5-811d-8ec7415cdea4",
   "metadata": {},
   "source": [
    "##### Added stop words and \"min_df\" parameters to pipeline to test"
   ]
  },
  {
   "cell_type": "code",
   "execution_count": 233,
   "id": "d640c0cf-4597-42d6-afce-09961e36fd66",
   "metadata": {},
   "outputs": [
    {
     "data": {
      "text/plain": [
       "(0.9995833333333334, 0.9704166666666667)"
      ]
     },
     "execution_count": 233,
     "metadata": {},
     "output_type": "execute_result"
    }
   ],
   "source": [
    "ct2 = make_column_transformer(\n",
    "    (CountVectorizer(stop_words='english', min_df=2), 'selftext'), \n",
    "    (CountVectorizer(stop_words='english', min_df=2), 'title'),\n",
    "    remainder='passthrough'\n",
    ")\n",
    "\n",
    "pipe2 = make_pipeline(ct2, LogisticRegression(max_iter=10_000))\n",
    "\n",
    "pipe2.fit(X_train, y_train)\n",
    "pipe2.score(X_train, y_train), pipe2.score(X_test, y_test)"
   ]
  },
  {
   "cell_type": "code",
   "execution_count": 273,
   "id": "52d35f91-f40f-4301-8e39-d9bad4fc9069",
   "metadata": {},
   "outputs": [
    {
     "data": {
      "text/plain": [
       "16261"
      ]
     },
     "execution_count": 273,
     "metadata": {},
     "output_type": "execute_result"
    }
   ],
   "source": [
    "len(pipe2.named_steps['logisticregression'].coef_[0])"
   ]
  },
  {
   "cell_type": "code",
   "execution_count": 50,
   "id": "ca783d4b-ab8e-4d8a-9a7a-d1d93f728b64",
   "metadata": {},
   "outputs": [
    {
     "data": {
      "text/plain": [
       "0.9768804949527842"
      ]
     },
     "execution_count": 50,
     "metadata": {},
     "output_type": "execute_result"
    }
   ],
   "source": [
    "f1_score(y_test, pipe2.predict(X_test), pos_label='harrypotter')"
   ]
  },
  {
   "cell_type": "code",
   "execution_count": 51,
   "id": "7b804cfd-2f0a-4da2-bd0d-1ddda58f14e8",
   "metadata": {},
   "outputs": [
    {
     "data": {
      "text/plain": [
       "0.9659586773697725"
      ]
     },
     "execution_count": 51,
     "metadata": {},
     "output_type": "execute_result"
    }
   ],
   "source": [
    "balanced_accuracy_score(y_test, pipe2.predict(X_test))"
   ]
  },
  {
   "cell_type": "code",
   "execution_count": 235,
   "id": "b39eec0d-2632-41b0-a50f-e0b5b71094e3",
   "metadata": {},
   "outputs": [],
   "source": [
    "model_coefs = pd.Series(pipe2.named_steps['logisticregression'].coef_[0], \n",
    "          index=pipe2.named_steps['columntransformer'].get_feature_names_out())"
   ]
  },
  {
   "cell_type": "code",
   "execution_count": 238,
   "id": "539cd4ec-e7a2-4a73-81e9-47b821493470",
   "metadata": {},
   "outputs": [
    {
     "data": {
      "text/plain": [
       "countvectorizer-2__marvel      -2.875286\n",
       "countvectorizer-1__marvel      -2.875122\n",
       "countvectorizer-1__comics      -2.167410\n",
       "countvectorizer-1__comic       -2.150262\n",
       "countvectorizer-2__mcu         -2.053449\n",
       "                                  ...   \n",
       "countvectorizer-2__voldemort    1.675842\n",
       "countvectorizer-1__books        1.708333\n",
       "countvectorizer-2__hogwarts     1.933589\n",
       "countvectorizer-1__harry        2.175554\n",
       "countvectorizer-2__harry        2.222952\n",
       "Length: 16261, dtype: float64"
      ]
     },
     "execution_count": 238,
     "metadata": {},
     "output_type": "execute_result"
    }
   ],
   "source": [
    "model_coefs.sort_values()"
   ]
  },
  {
   "cell_type": "code",
   "execution_count": 266,
   "id": "3e7b55bb-0486-4a78-bc31-798d85d3f112",
   "metadata": {},
   "outputs": [],
   "source": [
    "coefs_df = pd.DataFrame(np.expm1(model_coefs).sort_values(ascending=False), columns=['coefs'])"
   ]
  },
  {
   "cell_type": "markdown",
   "id": "1be37eb2-f844-44d1-bc49-71bdabac3c57",
   "metadata": {},
   "source": [
    "#### Countvectorizer-1 is from the 'selftext', countvectorizer-2 is from the 'title'"
   ]
  },
  {
   "cell_type": "code",
   "execution_count": 275,
   "id": "82c28284-2560-4730-a1cb-afa2c2a356c0",
   "metadata": {},
   "outputs": [
    {
     "data": {
      "text/html": [
       "<div>\n",
       "<style scoped>\n",
       "    .dataframe tbody tr th:only-of-type {\n",
       "        vertical-align: middle;\n",
       "    }\n",
       "\n",
       "    .dataframe tbody tr th {\n",
       "        vertical-align: top;\n",
       "    }\n",
       "\n",
       "    .dataframe thead th {\n",
       "        text-align: right;\n",
       "    }\n",
       "</style>\n",
       "<table border=\"1\" class=\"dataframe\">\n",
       "  <thead>\n",
       "    <tr style=\"text-align: right;\">\n",
       "      <th></th>\n",
       "      <th>coefs</th>\n",
       "    </tr>\n",
       "  </thead>\n",
       "  <tbody>\n",
       "    <tr>\n",
       "      <th>countvectorizer-2__harry</th>\n",
       "      <td>8.23</td>\n",
       "    </tr>\n",
       "    <tr>\n",
       "      <th>countvectorizer-1__harry</th>\n",
       "      <td>7.81</td>\n",
       "    </tr>\n",
       "    <tr>\n",
       "      <th>countvectorizer-2__hogwarts</th>\n",
       "      <td>5.91</td>\n",
       "    </tr>\n",
       "    <tr>\n",
       "      <th>countvectorizer-1__books</th>\n",
       "      <td>4.52</td>\n",
       "    </tr>\n",
       "    <tr>\n",
       "      <th>countvectorizer-2__voldemort</th>\n",
       "      <td>4.34</td>\n",
       "    </tr>\n",
       "    <tr>\n",
       "      <th>countvectorizer-1__hogwarts</th>\n",
       "      <td>4.10</td>\n",
       "    </tr>\n",
       "    <tr>\n",
       "      <th>countvectorizer-2__dumbledore</th>\n",
       "      <td>4.03</td>\n",
       "    </tr>\n",
       "    <tr>\n",
       "      <th>countvectorizer-2__hp</th>\n",
       "      <td>3.47</td>\n",
       "    </tr>\n",
       "    <tr>\n",
       "      <th>countvectorizer-1__voldemort</th>\n",
       "      <td>3.37</td>\n",
       "    </tr>\n",
       "    <tr>\n",
       "      <th>countvectorizer-1__hp</th>\n",
       "      <td>3.33</td>\n",
       "    </tr>\n",
       "    <tr>\n",
       "      <th>countvectorizer-2__beasts</th>\n",
       "      <td>3.31</td>\n",
       "    </tr>\n",
       "    <tr>\n",
       "      <th>countvectorizer-2__snape</th>\n",
       "      <td>3.13</td>\n",
       "    </tr>\n",
       "    <tr>\n",
       "      <th>countvectorizer-1__dumbledore</th>\n",
       "      <td>3.09</td>\n",
       "    </tr>\n",
       "    <tr>\n",
       "      <th>countvectorizer-1__wand</th>\n",
       "      <td>2.94</td>\n",
       "    </tr>\n",
       "    <tr>\n",
       "      <th>countvectorizer-1__snape</th>\n",
       "      <td>2.61</td>\n",
       "    </tr>\n",
       "    <tr>\n",
       "      <th>countvectorizer-1__potter</th>\n",
       "      <td>2.58</td>\n",
       "    </tr>\n",
       "    <tr>\n",
       "      <th>countvectorizer-2__potter</th>\n",
       "      <td>2.56</td>\n",
       "    </tr>\n",
       "    <tr>\n",
       "      <th>countvectorizer-2__secrets</th>\n",
       "      <td>2.42</td>\n",
       "    </tr>\n",
       "    <tr>\n",
       "      <th>countvectorizer-2__wizards</th>\n",
       "      <td>2.25</td>\n",
       "    </tr>\n",
       "    <tr>\n",
       "      <th>countvectorizer-2__books</th>\n",
       "      <td>2.06</td>\n",
       "    </tr>\n",
       "    <tr>\n",
       "      <th>countvectorizer-2__wizarding</th>\n",
       "      <td>2.03</td>\n",
       "    </tr>\n",
       "    <tr>\n",
       "      <th>countvectorizer-2__hagrid</th>\n",
       "      <td>2.02</td>\n",
       "    </tr>\n",
       "    <tr>\n",
       "      <th>countvectorizer-1__hermione</th>\n",
       "      <td>1.99</td>\n",
       "    </tr>\n",
       "    <tr>\n",
       "      <th>countvectorizer-2__sirius</th>\n",
       "      <td>1.96</td>\n",
       "    </tr>\n",
       "    <tr>\n",
       "      <th>countvectorizer-1__wizard</th>\n",
       "      <td>1.90</td>\n",
       "    </tr>\n",
       "    <tr>\n",
       "      <th>countvectorizer-1__wizards</th>\n",
       "      <td>1.90</td>\n",
       "    </tr>\n",
       "    <tr>\n",
       "      <th>countvectorizer-2__cursed</th>\n",
       "      <td>1.84</td>\n",
       "    </tr>\n",
       "    <tr>\n",
       "      <th>countvectorizer-1__muggle</th>\n",
       "      <td>1.72</td>\n",
       "    </tr>\n",
       "    <tr>\n",
       "      <th>countvectorizer-1__wizarding</th>\n",
       "      <td>1.72</td>\n",
       "    </tr>\n",
       "    <tr>\n",
       "      <th>countvectorizer-1__ron</th>\n",
       "      <td>1.69</td>\n",
       "    </tr>\n",
       "  </tbody>\n",
       "</table>\n",
       "</div>"
      ],
      "text/plain": [
       "                               coefs\n",
       "countvectorizer-2__harry        8.23\n",
       "countvectorizer-1__harry        7.81\n",
       "countvectorizer-2__hogwarts     5.91\n",
       "countvectorizer-1__books        4.52\n",
       "countvectorizer-2__voldemort    4.34\n",
       "countvectorizer-1__hogwarts     4.10\n",
       "countvectorizer-2__dumbledore   4.03\n",
       "countvectorizer-2__hp           3.47\n",
       "countvectorizer-1__voldemort    3.37\n",
       "countvectorizer-1__hp           3.33\n",
       "countvectorizer-2__beasts       3.31\n",
       "countvectorizer-2__snape        3.13\n",
       "countvectorizer-1__dumbledore   3.09\n",
       "countvectorizer-1__wand         2.94\n",
       "countvectorizer-1__snape        2.61\n",
       "countvectorizer-1__potter       2.58\n",
       "countvectorizer-2__potter       2.56\n",
       "countvectorizer-2__secrets      2.42\n",
       "countvectorizer-2__wizards      2.25\n",
       "countvectorizer-2__books        2.06\n",
       "countvectorizer-2__wizarding    2.03\n",
       "countvectorizer-2__hagrid       2.02\n",
       "countvectorizer-1__hermione     1.99\n",
       "countvectorizer-2__sirius       1.96\n",
       "countvectorizer-1__wizard       1.90\n",
       "countvectorizer-1__wizards      1.90\n",
       "countvectorizer-2__cursed       1.84\n",
       "countvectorizer-1__muggle       1.72\n",
       "countvectorizer-1__wizarding    1.72\n",
       "countvectorizer-1__ron          1.69"
      ]
     },
     "execution_count": 275,
     "metadata": {},
     "output_type": "execute_result"
    }
   ],
   "source": [
    "coefs_df.round(2).head(30)"
   ]
  },
  {
   "cell_type": "markdown",
   "id": "2ff5471e-979c-4dcc-a185-06965009c36c",
   "metadata": {},
   "source": [
    "##### The above coefficients show the relationship of the subreddit containing those words belonging to r/harrypotter. There are the highest values (aka the words most likely to be found in the r/harrypotter subreddit). For these values, the words are x-amount of times more likely to be found in r/harrypotter vs r/Marvel."
   ]
  },
  {
   "cell_type": "code",
   "execution_count": 274,
   "id": "76a9d6b4-b42d-4400-9d53-028bb1444255",
   "metadata": {},
   "outputs": [
    {
     "data": {
      "text/html": [
       "<div>\n",
       "<style scoped>\n",
       "    .dataframe tbody tr th:only-of-type {\n",
       "        vertical-align: middle;\n",
       "    }\n",
       "\n",
       "    .dataframe tbody tr th {\n",
       "        vertical-align: top;\n",
       "    }\n",
       "\n",
       "    .dataframe thead th {\n",
       "        text-align: right;\n",
       "    }\n",
       "</style>\n",
       "<table border=\"1\" class=\"dataframe\">\n",
       "  <thead>\n",
       "    <tr style=\"text-align: right;\">\n",
       "      <th></th>\n",
       "      <th>coefs</th>\n",
       "    </tr>\n",
       "  </thead>\n",
       "  <tbody>\n",
       "    <tr>\n",
       "      <th>countvectorizer-1__spider</th>\n",
       "      <td>-0.66</td>\n",
       "    </tr>\n",
       "    <tr>\n",
       "      <th>countvectorizer-1__eternals</th>\n",
       "      <td>-0.66</td>\n",
       "    </tr>\n",
       "    <tr>\n",
       "      <th>countvectorizer-1__thor</th>\n",
       "      <td>-0.66</td>\n",
       "    </tr>\n",
       "    <tr>\n",
       "      <th>countvectorizer-2__man</th>\n",
       "      <td>-0.66</td>\n",
       "    </tr>\n",
       "    <tr>\n",
       "      <th>countvectorizer-2__nwh</th>\n",
       "      <td>-0.67</td>\n",
       "    </tr>\n",
       "    <tr>\n",
       "      <th>countvectorizer-2__wolverine</th>\n",
       "      <td>-0.67</td>\n",
       "    </tr>\n",
       "    <tr>\n",
       "      <th>countvectorizer-2__multiverse</th>\n",
       "      <td>-0.68</td>\n",
       "    </tr>\n",
       "    <tr>\n",
       "      <th>countvectorizer-1__spiderman</th>\n",
       "      <td>-0.70</td>\n",
       "    </tr>\n",
       "    <tr>\n",
       "      <th>countvectorizer-1__wolverine</th>\n",
       "      <td>-0.70</td>\n",
       "    </tr>\n",
       "    <tr>\n",
       "      <th>countvectorizer-2__daredevil</th>\n",
       "      <td>-0.70</td>\n",
       "    </tr>\n",
       "    <tr>\n",
       "      <th>countvectorizer-2__spider</th>\n",
       "      <td>-0.72</td>\n",
       "    </tr>\n",
       "    <tr>\n",
       "      <th>countvectorizer-2__spiderman</th>\n",
       "      <td>-0.72</td>\n",
       "    </tr>\n",
       "    <tr>\n",
       "      <th>countvectorizer-2__knight</th>\n",
       "      <td>-0.72</td>\n",
       "    </tr>\n",
       "    <tr>\n",
       "      <th>countvectorizer-2__men</th>\n",
       "      <td>-0.73</td>\n",
       "    </tr>\n",
       "    <tr>\n",
       "      <th>countvectorizer-2__thanos</th>\n",
       "      <td>-0.73</td>\n",
       "    </tr>\n",
       "    <tr>\n",
       "      <th>countvectorizer-2__strange</th>\n",
       "      <td>-0.73</td>\n",
       "    </tr>\n",
       "    <tr>\n",
       "      <th>countvectorizer-2__avengers</th>\n",
       "      <td>-0.74</td>\n",
       "    </tr>\n",
       "    <tr>\n",
       "      <th>countvectorizer-2__deadpool</th>\n",
       "      <td>-0.75</td>\n",
       "    </tr>\n",
       "    <tr>\n",
       "      <th>countvectorizer-2__comics</th>\n",
       "      <td>-0.77</td>\n",
       "    </tr>\n",
       "    <tr>\n",
       "      <th>countvectorizer-2__eternals</th>\n",
       "      <td>-0.77</td>\n",
       "    </tr>\n",
       "    <tr>\n",
       "      <th>countvectorizer-2__comic</th>\n",
       "      <td>-0.77</td>\n",
       "    </tr>\n",
       "    <tr>\n",
       "      <th>countvectorizer-1__avengers</th>\n",
       "      <td>-0.78</td>\n",
       "    </tr>\n",
       "    <tr>\n",
       "      <th>countvectorizer-2__morbius</th>\n",
       "      <td>-0.78</td>\n",
       "    </tr>\n",
       "    <tr>\n",
       "      <th>countvectorizer-2__moon</th>\n",
       "      <td>-0.79</td>\n",
       "    </tr>\n",
       "    <tr>\n",
       "      <th>countvectorizer-1__mcu</th>\n",
       "      <td>-0.85</td>\n",
       "    </tr>\n",
       "    <tr>\n",
       "      <th>countvectorizer-2__mcu</th>\n",
       "      <td>-0.87</td>\n",
       "    </tr>\n",
       "    <tr>\n",
       "      <th>countvectorizer-1__comic</th>\n",
       "      <td>-0.88</td>\n",
       "    </tr>\n",
       "    <tr>\n",
       "      <th>countvectorizer-1__comics</th>\n",
       "      <td>-0.89</td>\n",
       "    </tr>\n",
       "    <tr>\n",
       "      <th>countvectorizer-1__marvel</th>\n",
       "      <td>-0.94</td>\n",
       "    </tr>\n",
       "    <tr>\n",
       "      <th>countvectorizer-2__marvel</th>\n",
       "      <td>-0.94</td>\n",
       "    </tr>\n",
       "  </tbody>\n",
       "</table>\n",
       "</div>"
      ],
      "text/plain": [
       "                               coefs\n",
       "countvectorizer-1__spider      -0.66\n",
       "countvectorizer-1__eternals    -0.66\n",
       "countvectorizer-1__thor        -0.66\n",
       "countvectorizer-2__man         -0.66\n",
       "countvectorizer-2__nwh         -0.67\n",
       "countvectorizer-2__wolverine   -0.67\n",
       "countvectorizer-2__multiverse  -0.68\n",
       "countvectorizer-1__spiderman   -0.70\n",
       "countvectorizer-1__wolverine   -0.70\n",
       "countvectorizer-2__daredevil   -0.70\n",
       "countvectorizer-2__spider      -0.72\n",
       "countvectorizer-2__spiderman   -0.72\n",
       "countvectorizer-2__knight      -0.72\n",
       "countvectorizer-2__men         -0.73\n",
       "countvectorizer-2__thanos      -0.73\n",
       "countvectorizer-2__strange     -0.73\n",
       "countvectorizer-2__avengers    -0.74\n",
       "countvectorizer-2__deadpool    -0.75\n",
       "countvectorizer-2__comics      -0.77\n",
       "countvectorizer-2__eternals    -0.77\n",
       "countvectorizer-2__comic       -0.77\n",
       "countvectorizer-1__avengers    -0.78\n",
       "countvectorizer-2__morbius     -0.78\n",
       "countvectorizer-2__moon        -0.79\n",
       "countvectorizer-1__mcu         -0.85\n",
       "countvectorizer-2__mcu         -0.87\n",
       "countvectorizer-1__comic       -0.88\n",
       "countvectorizer-1__comics      -0.89\n",
       "countvectorizer-1__marvel      -0.94\n",
       "countvectorizer-2__marvel      -0.94"
      ]
     },
     "execution_count": 274,
     "metadata": {},
     "output_type": "execute_result"
    }
   ],
   "source": [
    "coefs_df.round(2).tail(30)"
   ]
  },
  {
   "cell_type": "markdown",
   "id": "e0e5c210-9b8f-4520-a9ca-45b0cb5b823e",
   "metadata": {},
   "source": [
    "##### The above coefficients show the relationship of the subreddit containing those words belonging to r/Marvel. These values are represented in the negative as they are scored against r/harrypotter. The way to interpret these is as a positive percentage, e.g. the word \"marvel\" is 94% more likely to be found in r/Marvel vs r/harrypotter."
   ]
  },
  {
   "cell_type": "markdown",
   "id": "74fbc88a-acca-4aa7-8b3e-229e4a6b571e",
   "metadata": {},
   "source": [
    "##### Added ngram_range parameters to pipeline to test"
   ]
  },
  {
   "cell_type": "code",
   "execution_count": 14,
   "id": "848e524b-708c-4480-a614-0a126f9f5b11",
   "metadata": {},
   "outputs": [
    {
     "data": {
      "text/plain": [
       "(0.9997222222222222, 0.9695833333333334)"
      ]
     },
     "execution_count": 14,
     "metadata": {},
     "output_type": "execute_result"
    }
   ],
   "source": [
    "ct3 = make_column_transformer(\n",
    "    (CountVectorizer(stop_words='english', min_df=2, ngram_range=(1,2)), 'selftext'), \n",
    "    (CountVectorizer(stop_words='english', min_df=2, ngram_range=(1,2)), 'title')\n",
    ")\n",
    "\n",
    "pipe3 = make_pipeline(ct3, LogisticRegression(max_iter=10_000))\n",
    "\n",
    "pipe3.fit(X_train, y_train)\n",
    "pipe3.score(X_train, y_train), pipe3.score(X_test, y_test)"
   ]
  },
  {
   "cell_type": "markdown",
   "id": "25fb7db2-f2dd-4432-8fb5-1fbfcb23d0c4",
   "metadata": {},
   "source": [
    "##### Pipe2 with Logistic Regression has performed the best so far."
   ]
  },
  {
   "cell_type": "markdown",
   "id": "c8349123-5584-43fa-a6a2-9b237d3f84d0",
   "metadata": {},
   "source": [
    "#### Grid Searching with Logistic Regression and Count Vectorizer"
   ]
  },
  {
   "cell_type": "code",
   "execution_count": 279,
   "id": "47cb7aca-2543-4fc3-8dc1-e49385b78ccd",
   "metadata": {
    "tags": []
   },
   "outputs": [
    {
     "data": {
      "text/plain": [
       "GridSearchCV(estimator=Pipeline(steps=[('columntransformer',\n",
       "                                        ColumnTransformer(remainder='passthrough',\n",
       "                                                          transformers=[('countvectorizer-1',\n",
       "                                                                         CountVectorizer(min_df=2,\n",
       "                                                                                         stop_words='english'),\n",
       "                                                                         'selftext'),\n",
       "                                                                        ('countvectorizer-2',\n",
       "                                                                         CountVectorizer(min_df=2,\n",
       "                                                                                         stop_words='english'),\n",
       "                                                                         'title')])),\n",
       "                                       ('logisticregression',\n",
       "                                        LogisticRegression(max_iter=10000))]),\n",
       "             n_jobs=-1,\n",
       "             param_grid={'logisticregression__C': [0.001, 0.1, 1, 5, 50],\n",
       "                         'logisticregression__penalty': ['l1', 'l2'],\n",
       "                         'logisticregression__solver': ['lbfgs', 'liblinear']})"
      ]
     },
     "execution_count": 279,
     "metadata": {},
     "output_type": "execute_result"
    }
   ],
   "source": [
    "grid1 = {\n",
    "    'logisticregression__penalty': ['l1', 'l2'],\n",
    "    'logisticregression__C': [0.001, 0.1, 1, 5, 50],\n",
    "    'logisticregression__solver': ['lbfgs', 'liblinear'],\n",
    "}\n",
    "\n",
    "gs1 = GridSearchCV(pipe2, param_grid=grid1, n_jobs=-1)\n",
    "gs1.fit(X_train, y_train)"
   ]
  },
  {
   "cell_type": "code",
   "execution_count": 21,
   "id": "cdbfd5f7-1662-4927-90c4-eff89bdc38cb",
   "metadata": {},
   "outputs": [
    {
     "data": {
      "text/plain": [
       "(0.9677777777777778,\n",
       " Pipeline(steps=[('columntransformer',\n",
       "                  ColumnTransformer(transformers=[('countvectorizer-1',\n",
       "                                                   CountVectorizer(min_df=2,\n",
       "                                                                   stop_words='english'),\n",
       "                                                   'selftext'),\n",
       "                                                  ('countvectorizer-2',\n",
       "                                                   CountVectorizer(min_df=2,\n",
       "                                                                   stop_words='english'),\n",
       "                                                   'title')])),\n",
       "                 ('logisticregression',\n",
       "                  LogisticRegression(C=1, max_iter=10000, solver='liblinear'))]))"
      ]
     },
     "execution_count": 21,
     "metadata": {},
     "output_type": "execute_result"
    }
   ],
   "source": [
    "gs1.best_score_, gs1.best_estimator_"
   ]
  },
  {
   "cell_type": "code",
   "execution_count": 26,
   "id": "9d22f5ef-1105-42ca-b8ec-d21f7c3cb376",
   "metadata": {},
   "outputs": [
    {
     "data": {
      "text/plain": [
       "{'logisticregression__C': 1,\n",
       " 'logisticregression__penalty': 'l2',\n",
       " 'logisticregression__solver': 'liblinear'}"
      ]
     },
     "execution_count": 26,
     "metadata": {},
     "output_type": "execute_result"
    }
   ],
   "source": [
    "gs1.best_params_"
   ]
  },
  {
   "cell_type": "code",
   "execution_count": 23,
   "id": "5bb9cca5-95b9-49fc-8590-f65a8097ed4b",
   "metadata": {},
   "outputs": [
    {
     "data": {
      "text/plain": [
       "0.9708333333333333"
      ]
     },
     "execution_count": 23,
     "metadata": {},
     "output_type": "execute_result"
    }
   ],
   "source": [
    "gs1.score(X_test, y_test)"
   ]
  },
  {
   "cell_type": "markdown",
   "id": "4d7cdb7b-e623-4d5b-b450-4bccdb845754",
   "metadata": {},
   "source": [
    "##### This score is better than the above logistic regression model by 0.0001, but it doesn't seem enough to automatically make me want to change the solver each time."
   ]
  },
  {
   "cell_type": "code",
   "execution_count": 27,
   "id": "147b0336-0f95-42f3-b7b9-a680d20ca257",
   "metadata": {},
   "outputs": [
    {
     "data": {
      "text/plain": [
       "array(['harrypotter', 'harrypotter', 'harrypotter', ..., 'harrypotter',\n",
       "       'harrypotter', 'Marvel'], dtype=object)"
      ]
     },
     "execution_count": 27,
     "metadata": {},
     "output_type": "execute_result"
    }
   ],
   "source": [
    "gs1.predict(X_test)"
   ]
  },
  {
   "cell_type": "code",
   "execution_count": 39,
   "id": "797f9e6a-2995-403b-aef1-87534162846b",
   "metadata": {},
   "outputs": [
    {
     "data": {
      "text/plain": [
       "0.9771986970684039"
      ]
     },
     "execution_count": 39,
     "metadata": {},
     "output_type": "execute_result"
    }
   ],
   "source": [
    "f1_score(y_test, gs1.predict(X_test), pos_label='harrypotter')"
   ]
  },
  {
   "cell_type": "code",
   "execution_count": 41,
   "id": "56f305b5-3774-462f-94eb-fbe01cb28f49",
   "metadata": {},
   "outputs": [
    {
     "data": {
      "text/plain": [
       "0.9665314150559122"
      ]
     },
     "execution_count": 41,
     "metadata": {},
     "output_type": "execute_result"
    }
   ],
   "source": [
    "balanced_accuracy_score(y_test, gs1.predict(X_test))"
   ]
  },
  {
   "cell_type": "markdown",
   "id": "b7350786-61ce-4f0d-b4a3-65cbec6f4783",
   "metadata": {},
   "source": [
    "#### Logistic Regressing Using Tfid Vectorizer\n",
    "- With our best model from above."
   ]
  },
  {
   "cell_type": "code",
   "execution_count": 53,
   "id": "1af8a0a5-a686-4e29-9fb0-e4ae51166332",
   "metadata": {},
   "outputs": [
    {
     "data": {
      "text/plain": [
       "(0.9952777777777778, 0.9695833333333334)"
      ]
     },
     "execution_count": 53,
     "metadata": {},
     "output_type": "execute_result"
    }
   ],
   "source": [
    "ct4 = make_column_transformer(\n",
    "    (TfidfVectorizer(stop_words='english', min_df=2), 'selftext'), \n",
    "    (TfidfVectorizer(stop_words='english', min_df=2), 'title')\n",
    ")\n",
    "\n",
    "pipe4 = make_pipeline(ct4, LogisticRegression(max_iter=10_000))\n",
    "\n",
    "pipe4.fit(X_train, y_train)\n",
    "pipe4.score(X_train, y_train), pipe4.score(X_test, y_test)"
   ]
  },
  {
   "cell_type": "markdown",
   "id": "433fb796-fcc4-4ef1-a79c-d86b52408a7f",
   "metadata": {},
   "source": [
    "##### The model above is still performing slightly better than this model with the Tfid Vectorizer."
   ]
  },
  {
   "cell_type": "markdown",
   "id": "f3b59f42-afc4-44ee-bb61-d4a423d1a2aa",
   "metadata": {},
   "source": [
    "### Fitting Random Trees & Extra Trees Models\n",
    "- Using Count Vectorizer as that out performed the Tfid Vectorizer above."
   ]
  },
  {
   "cell_type": "code",
   "execution_count": 56,
   "id": "31fe19bc-83af-4b3b-b432-4f870e72409a",
   "metadata": {},
   "outputs": [
    {
     "data": {
      "text/plain": [
       "(0.9998611111111111, 0.9604166666666667)"
      ]
     },
     "execution_count": 56,
     "metadata": {},
     "output_type": "execute_result"
    }
   ],
   "source": [
    "ct5 = make_column_transformer(\n",
    "    (CountVectorizer(stop_words='english', min_df=2), 'selftext'), \n",
    "    (CountVectorizer(stop_words='english', min_df=2), 'title')\n",
    ")\n",
    "\n",
    "pipe5 = make_pipeline(ct5, RandomForestClassifier())\n",
    "\n",
    "pipe5.fit(X_train, y_train)\n",
    "pipe5.score(X_train, y_train), pipe5.score(X_test, y_test)"
   ]
  },
  {
   "cell_type": "code",
   "execution_count": 64,
   "id": "a5971ce7-3f1b-494e-ad1d-e3b632a48bcb",
   "metadata": {},
   "outputs": [
    {
     "data": {
      "text/plain": [
       "(0.9998611111111111, 0.9666666666666667)"
      ]
     },
     "execution_count": 64,
     "metadata": {},
     "output_type": "execute_result"
    }
   ],
   "source": [
    "ct6 = make_column_transformer(\n",
    "    (CountVectorizer(stop_words='english', min_df=2), 'selftext'), \n",
    "    (CountVectorizer(stop_words='english', min_df=2), 'title')\n",
    ")\n",
    "\n",
    "pipe6 = make_pipeline(ct6, ExtraTreesClassifier())\n",
    "\n",
    "pipe6.fit(X_train, y_train)\n",
    "pipe6.score(X_train, y_train), pipe6.score(X_test, y_test)"
   ]
  },
  {
   "cell_type": "markdown",
   "id": "b3f98fb1-8a2b-492a-9504-c59d6bc7086d",
   "metadata": {},
   "source": [
    "##### Both of the above models were slightly lower in accuracy than the logistic regression ones."
   ]
  },
  {
   "cell_type": "markdown",
   "id": "8b39d933-f9ec-4048-9431-3ab20b2a38b9",
   "metadata": {},
   "source": [
    "#### Grid Searching Over Extra Trees"
   ]
  },
  {
   "cell_type": "code",
   "execution_count": 62,
   "id": "4189179b-ad27-44f8-b20c-a17231b47745",
   "metadata": {
    "tags": []
   },
   "outputs": [
    {
     "data": {
      "text/plain": [
       "(0.9998611111111111, 0.9670833333333333)"
      ]
     },
     "execution_count": 62,
     "metadata": {},
     "output_type": "execute_result"
    }
   ],
   "source": [
    "grid2 = {\n",
    "    'extratreesclassifier__n_estimators': [100, 150, 200],\n",
    "    'extratreesclassifier__max_depth': [None, 5, 7, 10, 12, 15],\n",
    "    'extratreesclassifier__min_samples_split': [2, 3, 5],\n",
    "}\n",
    "\n",
    "gs2 = GridSearchCV(pipe6, param_grid=grid2, n_jobs=-1)\n",
    "gs2.fit(X_train, y_train)\n",
    "gs2.score(X_train, y_train), gs2.score(X_test, y_test)"
   ]
  },
  {
   "cell_type": "code",
   "execution_count": 63,
   "id": "0ce5fdaa-2bba-495a-8f06-851bf4c4f958",
   "metadata": {},
   "outputs": [
    {
     "data": {
      "text/plain": [
       "{'extratreesclassifier__max_depth': None,\n",
       " 'extratreesclassifier__min_samples_split': 3,\n",
       " 'extratreesclassifier__n_estimators': 200}"
      ]
     },
     "execution_count": 63,
     "metadata": {},
     "output_type": "execute_result"
    }
   ],
   "source": [
    "gs2.best_params_"
   ]
  },
  {
   "cell_type": "markdown",
   "id": "56e8efb8-e669-4765-a4cd-aa44d793c3dc",
   "metadata": {},
   "source": [
    "##### This model is better, but still not as good as the Logistic Regression model above."
   ]
  },
  {
   "cell_type": "markdown",
   "id": "9db1194b-ffd5-43ec-8182-27079b1b878e",
   "metadata": {},
   "source": [
    "### Fitting KNN Model with Count Vectorizer"
   ]
  },
  {
   "cell_type": "code",
   "execution_count": 65,
   "id": "0aaf74fa-2c85-47d3-815b-e8db5643fcc7",
   "metadata": {},
   "outputs": [
    {
     "data": {
      "text/plain": [
       "(0.7906944444444445, 0.745)"
      ]
     },
     "execution_count": 65,
     "metadata": {},
     "output_type": "execute_result"
    }
   ],
   "source": [
    "ct7 = make_column_transformer(\n",
    "    (CountVectorizer(stop_words='english', min_df=2), 'selftext'), \n",
    "    (CountVectorizer(stop_words='english', min_df=2), 'title')\n",
    ")\n",
    "\n",
    "pipe7 = make_pipeline(ct7, KNeighborsClassifier())\n",
    "\n",
    "pipe7.fit(X_train, y_train)\n",
    "pipe7.score(X_train, y_train), pipe7.score(X_test, y_test)"
   ]
  },
  {
   "cell_type": "markdown",
   "id": "5d7ded40-7260-48b1-a2e7-aee42bc96e7a",
   "metadata": {},
   "source": [
    "##### This KNN model is not good, I won't be pursuing it any further."
   ]
  },
  {
   "cell_type": "markdown",
   "id": "5794462c-2bdc-42ef-a5ff-f9724bd2bedc",
   "metadata": {},
   "source": [
    "### Trying Lemmatizer in our best LogReg model."
   ]
  },
  {
   "cell_type": "code",
   "execution_count": 66,
   "id": "38a1e61b-f9cc-449d-b8d5-268788c66ce9",
   "metadata": {},
   "outputs": [],
   "source": [
    "class LemmaTokenizer():\n",
    "    def __init__(self):\n",
    "        self.wnl = WordNetLemmatizer()\n",
    "    def __call__(self, doc):\n",
    "        return [self.wnl.lemmatize(t) for t in word_tokenize(doc)]\n",
    "\n",
    "def lemma_tokenizer(doc):\n",
    "    wnl = WordNetLemmatizer()\n",
    "    return [wnl.lemmatize(w) for w in word_tokenize(doc)]"
   ]
  },
  {
   "cell_type": "code",
   "execution_count": 278,
   "id": "64c67a78-f979-4f6d-b549-43439c87a67a",
   "metadata": {},
   "outputs": [
    {
     "data": {
      "text/plain": [
       "(0.9993055555555556, 0.9683333333333334)"
      ]
     },
     "execution_count": 278,
     "metadata": {},
     "output_type": "execute_result"
    }
   ],
   "source": [
    "ct8 = make_column_transformer(\n",
    "    (CountVectorizer(stop_words='english', min_df=2, tokenizer=lemma_tokenizer), 'selftext'), \n",
    "    (CountVectorizer(stop_words='english', min_df=2, tokenizer=lemma_tokenizer), 'title')\n",
    ")\n",
    "\n",
    "pipe8 = make_pipeline(ct8, LogisticRegression(max_iter=10_000))\n",
    "\n",
    "pipe8.fit(X_train, y_train)\n",
    "pipe8.score(X_train, y_train), pipe8.score(X_test, y_test)"
   ]
  },
  {
   "cell_type": "markdown",
   "id": "22b79ee7-6c85-4725-bb83-d8a78a48b171",
   "metadata": {},
   "source": [
    "##### Using the lemmatizer actually brought the score down slightly. "
   ]
  },
  {
   "cell_type": "code",
   "execution_count": 209,
   "id": "4471ba86-6c52-4697-a183-bb0c1fe5abde",
   "metadata": {},
   "outputs": [
    {
     "data": {
      "image/png": "[encoded data removed]",
      "text/plain": [
       "<Figure size 432x288 with 2 Axes>"
      ]
     },
     "metadata": {
      "needs_background": "light"
     },
     "output_type": "display_data"
    }
   ],
   "source": [
    "plt.rcParams.update({'font.size': 14}),\n",
    "ConfusionMatrixDisplay.from_estimator(pipe2, X_test, y_test, normalize='pred', cmap='Blues'),\n",
    "plt.savefig('../images/confusion_matrix');"
   ]
  },
  {
   "cell_type": "markdown",
   "id": "7ffb34ff-2536-44fa-9e9c-3ee2f898ef28",
   "metadata": {},
   "source": [
    "The above is a confusion matrix for the predictions coming from the best model on the test set, the Logistic Regression one using Count Vectorizer. This is showing that the model is predicting the true Marvel label about 97% of the time, and the Harry Potter label also around 97% percent of the time. The false positive and negative frequence is very small, being 2.8% and 3.2% respectively."
   ]
  },
  {
   "cell_type": "markdown",
   "id": "e8e21326-7aa5-4525-b6d0-e0c78179d32b",
   "metadata": {},
   "source": [
    "---"
   ]
  },
  {
   "cell_type": "markdown",
   "id": "a3c9844d-fc4e-41c1-affd-85fbd2f73343",
   "metadata": {},
   "source": [
    "## Conclusions and Recommendations"
   ]
  },
  {
   "cell_type": "markdown",
   "id": "a797ac58-00b0-4bd1-98ec-ab534734f251",
   "metadata": {},
   "source": [
    "During the modeling process, I found the good 'ol Logistic Regression model to work the best. It performed remarkably well with these two subreddits, and my hypoethesis is that the two subreddits are so different that the model was easily able to pick up on that. There was a consistent pattern where in the r/harrypotter subreddit, the word 'harry' was both the most common word in the title and selftext and also had the most impactful coefficient. Similarly, in the r/Marvel subreddit the word 'marvel' was both the most common in title and selftext and also carried the most weight with the coefficient.\n",
    "\n",
    "For this project, I didn't go into the missclassifications the model was making, but that is something that would be worth looking into moving forward. Another interesting thing to try would be to add the words 'harry' and 'marvel' to the stop words list to see if the model is still as effective at distinguishing between the two subreddits. There are also other words and bigrams that would be interesting to add to the stop words as well.\n",
    "\n",
    "My recommendations for this model would be to continue to gather data for different time periods moving forward and testing the model. Since both of these fields change fairly regularly, any new data could potentially affect the accuracy of the model. Many of the words that were showing up in each subreddit frequently corresponded to current shows and/or movies that are airing or releasing during the time period of the posts. If we were to collect new data 6 months from now, I'm sure some of those most frequent words would be different to reflect the newer stuff that is popular. "
   ]
  }
 ],
 "metadata": {
  "kernelspec": {
   "display_name": "Python 3 (ipykernel)",
   "language": "python",
   "name": "python3"
  },
  "language_info": {
   "codemirror_mode": {
    "name": "ipython",
    "version": 3
   },
   "file_extension": ".py",
   "mimetype": "text/x-python",
   "name": "python",
   "nbconvert_exporter": "python",
   "pygments_lexer": "ipython3",
   "version": "3.9.7"
  }
 },
 "nbformat": 4,
 "nbformat_minor": 5
}
