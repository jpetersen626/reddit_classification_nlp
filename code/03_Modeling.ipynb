{
 "cells": [
  {
   "cell_type": "markdown",
   "id": "7bc0622c-5425-44b3-9639-a4e0486b3985",
   "metadata": {},
   "source": [
    "## Modeling"
   ]
  },
  {
   "cell_type": "markdown",
   "id": "3db398f8-f08c-4e25-8e96-862256b4f2e5",
   "metadata": {},
   "source": [
    "---"
   ]
  },
  {
   "cell_type": "code",
   "execution_count": 37,
   "id": "9ebab50c-7a18-4a0e-a2cf-a536bb2f7028",
   "metadata": {},
   "outputs": [],
   "source": [
    "import pandas as pd\n",
    "import numpy as np\n",
    "import seaborn as sns\n",
    "import matplotlib.pyplot as plt\n",
    "\n",
    "from sklearn.ensemble import ExtraTreesClassifier, RandomForestClassifier, VotingClassifier\n",
    "from sklearn.model_selection import cross_val_score, GridSearchCV, train_test_split\n",
    "from sklearn.metrics import ConfusionMatrixDisplay, f1_score, balanced_accuracy_score\n",
    "from sklearn.linear_model import LogisticRegression, LinearRegression\n",
    "from sklearn.feature_extraction.text import CountVectorizer, TfidfVectorizer\n",
    "from sklearn.neighbors import KNeighborsClassifier\n",
    "from sklearn.tree import DecisionTreeClassifier\n",
    "from sklearn.pipeline import make_pipeline\n",
    "from sklearn.compose import make_column_selector, make_column_transformer\n",
    "from sklearn.preprocessing import OneHotEncoder\n",
    "from nltk import word_tokenize\n",
    "from nltk.stem import WordNetLemmatizer\n",
    "pd.options.display.max_colwidth = 400"
   ]
  },
  {
   "cell_type": "code",
   "execution_count": 2,
   "id": "586a1056-6a44-4d4e-8117-8348404b5625",
   "metadata": {},
   "outputs": [],
   "source": [
    "subreddit = pd.read_csv('../datasets/subreddit_combined.csv')"
   ]
  },
  {
   "cell_type": "code",
   "execution_count": 3,
   "id": "a756d5e1-4cae-4703-8023-1df6374a3032",
   "metadata": {},
   "outputs": [
    {
     "data": {
      "text/html": [
       "<div>\n",
       "<style scoped>\n",
       "    .dataframe tbody tr th:only-of-type {\n",
       "        vertical-align: middle;\n",
       "    }\n",
       "\n",
       "    .dataframe tbody tr th {\n",
       "        vertical-align: top;\n",
       "    }\n",
       "\n",
       "    .dataframe thead th {\n",
       "        text-align: right;\n",
       "    }\n",
       "</style>\n",
       "<table border=\"1\" class=\"dataframe\">\n",
       "  <thead>\n",
       "    <tr style=\"text-align: right;\">\n",
       "      <th></th>\n",
       "      <th>link_flair_text</th>\n",
       "      <th>over_18</th>\n",
       "      <th>selftext</th>\n",
       "      <th>subreddit</th>\n",
       "      <th>title</th>\n",
       "    </tr>\n",
       "  </thead>\n",
       "  <tbody>\n",
       "    <tr>\n",
       "      <th>0</th>\n",
       "      <td>Other</td>\n",
       "      <td>False</td>\n",
       "      <td>So in the venom 2 post credit venom says he recognizes peter Parker even though that venom has never met him because almost the moment venom arrived on earth he has been with Eddie or in a secret facility so could they have met in between movies?</td>\n",
       "      <td>Marvel</td>\n",
       "      <td>plot hole</td>\n",
       "    </tr>\n",
       "    <tr>\n",
       "      <th>1</th>\n",
       "      <td>Film/Television</td>\n",
       "      <td>False</td>\n",
       "      <td>Alright, so I avoided this movie until today, what’s that like 12 years, because if the reviews and I gotta say, it was actually pretty good. Way better than the second Venom, let there be Carnage. \\n\\nForget other peoples opinions. Watch what you want.</td>\n",
       "      <td>Marvel</td>\n",
       "      <td>Green lantern, not that bad.</td>\n",
       "    </tr>\n",
       "  </tbody>\n",
       "</table>\n",
       "</div>"
      ],
      "text/plain": [
       "   link_flair_text  over_18  \\\n",
       "0            Other    False   \n",
       "1  Film/Television    False   \n",
       "\n",
       "                                                                                                                                                                                                                                                        selftext  \\\n",
       "0         So in the venom 2 post credit venom says he recognizes peter Parker even though that venom has never met him because almost the moment venom arrived on earth he has been with Eddie or in a secret facility so could they have met in between movies?   \n",
       "1  Alright, so I avoided this movie until today, what’s that like 12 years, because if the reviews and I gotta say, it was actually pretty good. Way better than the second Venom, let there be Carnage. \\n\\nForget other peoples opinions. Watch what you want.   \n",
       "\n",
       "  subreddit                         title  \n",
       "0    Marvel                     plot hole  \n",
       "1    Marvel  Green lantern, not that bad.  "
      ]
     },
     "execution_count": 3,
     "metadata": {},
     "output_type": "execute_result"
    }
   ],
   "source": [
    "subreddit.head(2)"
   ]
  },
  {
   "cell_type": "code",
   "execution_count": 4,
   "id": "bb304371-13cf-446d-b888-2aac30b222d3",
   "metadata": {},
   "outputs": [],
   "source": [
    "X = subreddit[['selftext', 'title']]\n",
    "y = subreddit['subreddit']\n",
    "\n",
    "X_train, X_test, y_train, y_test = train_test_split(X, y, random_state=55, stratify=y)"
   ]
  },
  {
   "cell_type": "markdown",
   "id": "69f1fcab-ec4f-40a6-96c8-9746739e004f",
   "metadata": {},
   "source": [
    "### Generating a Baseline Model\n",
    "\n",
    "#### Since r/harrypotter is the majority class, it is the positive class (the one we're predicting)"
   ]
  },
  {
   "cell_type": "code",
   "execution_count": 5,
   "id": "41edb96d-a170-4c50-9047-4331fc5917c1",
   "metadata": {},
   "outputs": [
    {
     "data": {
      "text/plain": [
       "harrypotter    0.636354\n",
       "Marvel         0.363646\n",
       "Name: subreddit, dtype: float64"
      ]
     },
     "execution_count": 5,
     "metadata": {},
     "output_type": "execute_result"
    }
   ],
   "source": [
    "y.value_counts(normalize=True)"
   ]
  },
  {
   "cell_type": "markdown",
   "id": "08b38bef-7713-4b21-8ad8-2435817768f8",
   "metadata": {},
   "source": [
    "### Making First Logistic Regression Model with Count Vectorizer"
   ]
  },
  {
   "cell_type": "code",
   "execution_count": 11,
   "id": "5c4ffd87-5308-4c79-a882-02714f22b3f1",
   "metadata": {},
   "outputs": [
    {
     "data": {
      "text/plain": [
       "(1.0, 0.9604166666666667)"
      ]
     },
     "execution_count": 11,
     "metadata": {},
     "output_type": "execute_result"
    }
   ],
   "source": [
    "ct1 = make_column_transformer((CountVectorizer(), 'selftext'), (CountVectorizer(), 'title'))\n",
    "\n",
    "pipe1 = make_pipeline(ct1, LogisticRegression(max_iter=10_000))\n",
    "\n",
    "pipe1.fit(X_train, y_train)\n",
    "pipe1.score(X_train, y_train), pipe1.score(X_test, y_test)"
   ]
  },
  {
   "cell_type": "markdown",
   "id": "9e52bc1c-ce99-4fb5-811d-8ec7415cdea4",
   "metadata": {},
   "source": [
    "##### Added stop words and \"min_df\" parameters to pipeline to test"
   ]
  },
  {
   "cell_type": "code",
   "execution_count": 49,
   "id": "d640c0cf-4597-42d6-afce-09961e36fd66",
   "metadata": {},
   "outputs": [
    {
     "data": {
      "text/plain": [
       "(0.9995833333333334, 0.9704166666666667)"
      ]
     },
     "execution_count": 49,
     "metadata": {},
     "output_type": "execute_result"
    }
   ],
   "source": [
    "ct2 = make_column_transformer(\n",
    "    (CountVectorizer(stop_words='english', min_df=2), 'selftext'), \n",
    "    (CountVectorizer(stop_words='english', min_df=2), 'title')\n",
    ")\n",
    "\n",
    "pipe2 = make_pipeline(ct2, LogisticRegression(max_iter=10_000))\n",
    "\n",
    "pipe2.fit(X_train, y_train)\n",
    "pipe2.score(X_train, y_train), pipe2.score(X_test, y_test)"
   ]
  },
  {
   "cell_type": "code",
   "execution_count": 50,
   "id": "ca783d4b-ab8e-4d8a-9a7a-d1d93f728b64",
   "metadata": {},
   "outputs": [
    {
     "data": {
      "text/plain": [
       "0.9768804949527842"
      ]
     },
     "execution_count": 50,
     "metadata": {},
     "output_type": "execute_result"
    }
   ],
   "source": [
    "f1_score(y_test, pipe2.predict(X_test), pos_label='harrypotter')"
   ]
  },
  {
   "cell_type": "code",
   "execution_count": 51,
   "id": "7b804cfd-2f0a-4da2-bd0d-1ddda58f14e8",
   "metadata": {},
   "outputs": [
    {
     "data": {
      "text/plain": [
       "0.9659586773697725"
      ]
     },
     "execution_count": 51,
     "metadata": {},
     "output_type": "execute_result"
    }
   ],
   "source": [
    "balanced_accuracy_score(y_test, pipe2.predict(X_test))"
   ]
  },
  {
   "cell_type": "markdown",
   "id": "74fbc88a-acca-4aa7-8b3e-229e4a6b571e",
   "metadata": {},
   "source": [
    "##### Added ngram_range parameters to pipeline to test"
   ]
  },
  {
   "cell_type": "code",
   "execution_count": 14,
   "id": "848e524b-708c-4480-a614-0a126f9f5b11",
   "metadata": {},
   "outputs": [
    {
     "data": {
      "text/plain": [
       "(0.9997222222222222, 0.9695833333333334)"
      ]
     },
     "execution_count": 14,
     "metadata": {},
     "output_type": "execute_result"
    }
   ],
   "source": [
    "ct3 = make_column_transformer(\n",
    "    (CountVectorizer(stop_words='english', min_df=2, ngram_range=(1,2)), 'selftext'), \n",
    "    (CountVectorizer(stop_words='english', min_df=2, ngram_range=(1,2)), 'title')\n",
    ")\n",
    "\n",
    "pipe3 = make_pipeline(ct3, LogisticRegression(max_iter=10_000))\n",
    "\n",
    "pipe3.fit(X_train, y_train)\n",
    "pipe3.score(X_train, y_train), pipe3.score(X_test, y_test)"
   ]
  },
  {
   "cell_type": "markdown",
   "id": "25fb7db2-f2dd-4432-8fb5-1fbfcb23d0c4",
   "metadata": {},
   "source": [
    "##### Pipe2 has performed the best so far."
   ]
  },
  {
   "cell_type": "markdown",
   "id": "c8349123-5584-43fa-a6a2-9b237d3f84d0",
   "metadata": {},
   "source": [
    "#### Grid Searching with Logistic Regression and Count Vectorizer"
   ]
  },
  {
   "cell_type": "code",
   "execution_count": 20,
   "id": "47cb7aca-2543-4fc3-8dc1-e49385b78ccd",
   "metadata": {
    "collapsed": true,
    "jupyter": {
     "outputs_hidden": true
    },
    "tags": []
   },
   "outputs": [
    {
     "name": "stderr",
     "output_type": "stream",
     "text": [
      "C:\\Users\\jacki\\anaconda3\\lib\\site-packages\\sklearn\\model_selection\\_validation.py:372: FitFailedWarning: \n",
      "25 fits failed out of a total of 100.\n",
      "The score on these train-test partitions for these parameters will be set to nan.\n",
      "If these failures are not expected, you can try to debug them by setting error_score='raise'.\n",
      "\n",
      "Below are more details about the failures:\n",
      "--------------------------------------------------------------------------------\n",
      "25 fits failed with the following error:\n",
      "Traceback (most recent call last):\n",
      "  File \"C:\\Users\\jacki\\anaconda3\\lib\\site-packages\\sklearn\\model_selection\\_validation.py\", line 680, in _fit_and_score\n",
      "    estimator.fit(X_train, y_train, **fit_params)\n",
      "  File \"C:\\Users\\jacki\\anaconda3\\lib\\site-packages\\sklearn\\pipeline.py\", line 394, in fit\n",
      "    self._final_estimator.fit(Xt, y, **fit_params_last_step)\n",
      "  File \"C:\\Users\\jacki\\anaconda3\\lib\\site-packages\\sklearn\\linear_model\\_logistic.py\", line 1461, in fit\n",
      "    solver = _check_solver(self.solver, self.penalty, self.dual)\n",
      "  File \"C:\\Users\\jacki\\anaconda3\\lib\\site-packages\\sklearn\\linear_model\\_logistic.py\", line 447, in _check_solver\n",
      "    raise ValueError(\n",
      "ValueError: Solver lbfgs supports only 'l2' or 'none' penalties, got l1 penalty.\n",
      "\n",
      "  warnings.warn(some_fits_failed_message, FitFailedWarning)\n",
      "C:\\Users\\jacki\\anaconda3\\lib\\site-packages\\sklearn\\model_selection\\_search.py:969: UserWarning: One or more of the test scores are non-finite: [       nan 0.61055556 0.79444444 0.85638889        nan 0.92\n",
      " 0.96041667 0.96138889        nan 0.96055556 0.96736111 0.96777778\n",
      "        nan 0.96097222 0.96722222 0.96722222        nan 0.96611111\n",
      " 0.96611111 0.96652778]\n",
      "  warnings.warn(\n"
     ]
    },
    {
     "data": {
      "text/plain": [
       "GridSearchCV(estimator=Pipeline(steps=[('columntransformer',\n",
       "                                        ColumnTransformer(transformers=[('countvectorizer-1',\n",
       "                                                                         CountVectorizer(min_df=2,\n",
       "                                                                                         stop_words='english'),\n",
       "                                                                         'selftext'),\n",
       "                                                                        ('countvectorizer-2',\n",
       "                                                                         CountVectorizer(min_df=2,\n",
       "                                                                                         stop_words='english'),\n",
       "                                                                         'title')])),\n",
       "                                       ('logisticregression',\n",
       "                                        LogisticRegression(max_iter=10000))]),\n",
       "             n_jobs=-1,\n",
       "             param_grid={'logisticregression__C': [0.001, 0.1, 1, 5, 50],\n",
       "                         'logisticregression__penalty': ['l1', 'l2'],\n",
       "                         'logisticregression__solver': ['lbfgs', 'liblinear']})"
      ]
     },
     "execution_count": 20,
     "metadata": {},
     "output_type": "execute_result"
    }
   ],
   "source": [
    "grid1 = {\n",
    "    'logisticregression__penalty': ['l1', 'l2'],\n",
    "    'logisticregression__C': [0.001, 0.1, 1, 5, 50],\n",
    "    'logisticregression__solver': ['lbfgs', 'liblinear'],\n",
    "}\n",
    "\n",
    "gs1 = GridSearchCV(pipe2, param_grid=grid1, n_jobs=-1)\n",
    "gs1.fit(X_train, y_train)"
   ]
  },
  {
   "cell_type": "code",
   "execution_count": 21,
   "id": "cdbfd5f7-1662-4927-90c4-eff89bdc38cb",
   "metadata": {},
   "outputs": [
    {
     "data": {
      "text/plain": [
       "(0.9677777777777778,\n",
       " Pipeline(steps=[('columntransformer',\n",
       "                  ColumnTransformer(transformers=[('countvectorizer-1',\n",
       "                                                   CountVectorizer(min_df=2,\n",
       "                                                                   stop_words='english'),\n",
       "                                                   'selftext'),\n",
       "                                                  ('countvectorizer-2',\n",
       "                                                   CountVectorizer(min_df=2,\n",
       "                                                                   stop_words='english'),\n",
       "                                                   'title')])),\n",
       "                 ('logisticregression',\n",
       "                  LogisticRegression(C=1, max_iter=10000, solver='liblinear'))]))"
      ]
     },
     "execution_count": 21,
     "metadata": {},
     "output_type": "execute_result"
    }
   ],
   "source": [
    "gs1.best_score_, gs1.best_estimator_"
   ]
  },
  {
   "cell_type": "code",
   "execution_count": 26,
   "id": "9d22f5ef-1105-42ca-b8ec-d21f7c3cb376",
   "metadata": {},
   "outputs": [
    {
     "data": {
      "text/plain": [
       "{'logisticregression__C': 1,\n",
       " 'logisticregression__penalty': 'l2',\n",
       " 'logisticregression__solver': 'liblinear'}"
      ]
     },
     "execution_count": 26,
     "metadata": {},
     "output_type": "execute_result"
    }
   ],
   "source": [
    "gs1.best_params_"
   ]
  },
  {
   "cell_type": "code",
   "execution_count": 23,
   "id": "5bb9cca5-95b9-49fc-8590-f65a8097ed4b",
   "metadata": {},
   "outputs": [
    {
     "data": {
      "text/plain": [
       "0.9708333333333333"
      ]
     },
     "execution_count": 23,
     "metadata": {},
     "output_type": "execute_result"
    }
   ],
   "source": [
    "gs1.score(X_test, y_test)"
   ]
  },
  {
   "cell_type": "code",
   "execution_count": 27,
   "id": "147b0336-0f95-42f3-b7b9-a680d20ca257",
   "metadata": {},
   "outputs": [
    {
     "data": {
      "text/plain": [
       "array(['harrypotter', 'harrypotter', 'harrypotter', ..., 'harrypotter',\n",
       "       'harrypotter', 'Marvel'], dtype=object)"
      ]
     },
     "execution_count": 27,
     "metadata": {},
     "output_type": "execute_result"
    }
   ],
   "source": [
    "gs1.predict(X_test)"
   ]
  },
  {
   "cell_type": "code",
   "execution_count": 36,
   "id": "4471ba86-6c52-4697-a183-bb0c1fe5abde",
   "metadata": {},
   "outputs": [
    {
     "data": {
      "image/png": "[encoded data removed]",
      "text/plain": [
       "<Figure size 432x288 with 2 Axes>"
      ]
     },
     "metadata": {
      "needs_background": "light"
     },
     "output_type": "display_data"
    }
   ],
   "source": [
    "ConfusionMatrixDisplay.from_estimator(gs1, X_test, y_test, normalize='pred');"
   ]
  },
  {
   "cell_type": "code",
   "execution_count": 39,
   "id": "797f9e6a-2995-403b-aef1-87534162846b",
   "metadata": {},
   "outputs": [
    {
     "data": {
      "text/plain": [
       "0.9771986970684039"
      ]
     },
     "execution_count": 39,
     "metadata": {},
     "output_type": "execute_result"
    }
   ],
   "source": [
    "f1_score(y_test, gs1.predict(X_test), pos_label='harrypotter')"
   ]
  },
  {
   "cell_type": "code",
   "execution_count": 41,
   "id": "56f305b5-3774-462f-94eb-fbe01cb28f49",
   "metadata": {},
   "outputs": [
    {
     "data": {
      "text/plain": [
       "0.9665314150559122"
      ]
     },
     "execution_count": 41,
     "metadata": {},
     "output_type": "execute_result"
    }
   ],
   "source": [
    "balanced_accuracy_score(y_test, gs1.predict(X_test))"
   ]
  },
  {
   "cell_type": "code",
   "execution_count": null,
   "id": "63d21531-2347-4150-a4fa-84d956832513",
   "metadata": {},
   "outputs": [],
   "source": []
  }
 ],
 "metadata": {
  "kernelspec": {
   "display_name": "Python 3 (ipykernel)",
   "language": "python",
   "name": "python3"
  },
  "language_info": {
   "codemirror_mode": {
    "name": "ipython",
    "version": 3
   },
   "file_extension": ".py",
   "mimetype": "text/x-python",
   "name": "python",
   "nbconvert_exporter": "python",
   "pygments_lexer": "ipython3",
   "version": "3.9.7"
  }
 },
 "nbformat": 4,
 "nbformat_minor": 5
}
